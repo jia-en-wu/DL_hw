{
 "cells": [
  {
   "cell_type": "markdown",
   "metadata": {
    "colab_type": "text"
   },
   "source": [
    "This is a companion notebook for the book [Deep Learning with Python, Second Edition](https://www.manning.com/books/deep-learning-with-python-second-edition?a_aid=keras&a_bid=76564dff). For readability, it only contains runnable code blocks and section titles, and omits everything else in the book: text paragraphs, figures, and pseudocode.\n",
    "\n",
    "**If you want to be able to follow what's going on, I recommend reading the notebook side by side with your copy of the book.**\n",
    "\n",
    "This notebook was generated for TensorFlow 2.6."
   ]
  },
  {
   "cell_type": "markdown",
   "metadata": {
    "colab_type": "text"
   },
   "source": [
    "# Fundamentals of machine learning"
   ]
  },
  {
   "cell_type": "markdown",
   "metadata": {
    "colab_type": "text"
   },
   "source": [
    "## Generalization: The goal of machine learning"
   ]
  },
  {
   "cell_type": "markdown",
   "metadata": {
    "colab_type": "text"
   },
   "source": [
    "### Underfitting and overfitting"
   ]
  },
  {
   "cell_type": "markdown",
   "metadata": {
    "colab_type": "text"
   },
   "source": [
    "#### Noisy training data"
   ]
  },
  {
   "cell_type": "markdown",
   "metadata": {
    "colab_type": "text"
   },
   "source": [
    "#### Ambiguous features"
   ]
  },
  {
   "cell_type": "markdown",
   "metadata": {
    "colab_type": "text"
   },
   "source": [
    "#### Rare features and spurious correlations"
   ]
  },
  {
   "cell_type": "markdown",
   "metadata": {
    "colab_type": "text"
   },
   "source": [
    "**Adding white-noise channels or all-zeros channels to MNIST**"
   ]
  },
  {
   "cell_type": "code",
   "execution_count": 1,
   "metadata": {
    "colab_type": "code"
   },
   "outputs": [],
   "source": [
    "from tensorflow.keras.datasets import mnist\n",
    "import numpy as np\n",
    "\n",
    "(train_images, train_labels), _ = mnist.load_data()\n",
    "train_images = train_images.reshape((60000, 28 * 28))\n",
    "train_images = train_images.astype(\"float32\") / 255\n",
    "\n",
    "train_images_with_noise_channels = np.concatenate(\n",
    "    [train_images, np.random.random((len(train_images), 784))], axis=1)\n",
    "\n",
    "train_images_with_zeros_channels = np.concatenate(\n",
    "    [train_images, np.zeros((len(train_images), 784))], axis=1)"
   ]
  },
  {
   "cell_type": "markdown",
   "metadata": {
    "colab_type": "text"
   },
   "source": [
    "**Training the same model on MNIST data with noise channels or all-zero channels**"
   ]
  },
  {
   "cell_type": "code",
   "execution_count": 2,
   "metadata": {
    "colab_type": "code"
   },
   "outputs": [
    {
     "name": "stdout",
     "output_type": "stream",
     "text": [
      "Epoch 1/10\n",
      "375/375 [==============================] - 3s 6ms/step - loss: 0.6122 - accuracy: 0.8137 - val_loss: 0.3869 - val_accuracy: 0.8780\n",
      "Epoch 2/10\n",
      "375/375 [==============================] - 2s 6ms/step - loss: 0.2447 - accuracy: 0.9238 - val_loss: 0.1920 - val_accuracy: 0.9456\n",
      "Epoch 3/10\n",
      "375/375 [==============================] - 2s 6ms/step - loss: 0.1568 - accuracy: 0.9511 - val_loss: 0.1397 - val_accuracy: 0.9598\n",
      "Epoch 4/10\n",
      "375/375 [==============================] - 2s 6ms/step - loss: 0.1109 - accuracy: 0.9659 - val_loss: 0.1245 - val_accuracy: 0.9624\n",
      "Epoch 5/10\n",
      "375/375 [==============================] - 2s 6ms/step - loss: 0.0821 - accuracy: 0.9741 - val_loss: 0.1481 - val_accuracy: 0.9572\n",
      "Epoch 6/10\n",
      "375/375 [==============================] - 2s 6ms/step - loss: 0.0583 - accuracy: 0.9816 - val_loss: 0.1217 - val_accuracy: 0.9669\n",
      "Epoch 7/10\n",
      "375/375 [==============================] - 2s 6ms/step - loss: 0.0454 - accuracy: 0.9860 - val_loss: 0.1597 - val_accuracy: 0.9584\n",
      "Epoch 8/10\n",
      "375/375 [==============================] - 2s 6ms/step - loss: 0.0325 - accuracy: 0.9899 - val_loss: 0.1647 - val_accuracy: 0.9584\n",
      "Epoch 9/10\n",
      "375/375 [==============================] - 2s 6ms/step - loss: 0.0261 - accuracy: 0.9909 - val_loss: 0.1420 - val_accuracy: 0.9658\n",
      "Epoch 10/10\n",
      "375/375 [==============================] - 2s 6ms/step - loss: 0.0200 - accuracy: 0.9934 - val_loss: 0.1474 - val_accuracy: 0.9672\n",
      "Epoch 1/10\n",
      "375/375 [==============================] - 3s 6ms/step - loss: 0.2923 - accuracy: 0.9161 - val_loss: 0.1413 - val_accuracy: 0.9589\n",
      "Epoch 2/10\n",
      "375/375 [==============================] - 2s 6ms/step - loss: 0.1209 - accuracy: 0.9647 - val_loss: 0.1060 - val_accuracy: 0.9691\n",
      "Epoch 3/10\n",
      "375/375 [==============================] - 2s 6ms/step - loss: 0.0790 - accuracy: 0.9771 - val_loss: 0.1025 - val_accuracy: 0.9693\n",
      "Epoch 4/10\n",
      "375/375 [==============================] - 2s 6ms/step - loss: 0.0566 - accuracy: 0.9836 - val_loss: 0.0813 - val_accuracy: 0.9757\n",
      "Epoch 5/10\n",
      "375/375 [==============================] - 2s 6ms/step - loss: 0.0424 - accuracy: 0.9873 - val_loss: 0.0790 - val_accuracy: 0.9775\n",
      "Epoch 6/10\n",
      "375/375 [==============================] - 2s 6ms/step - loss: 0.0320 - accuracy: 0.9899 - val_loss: 0.0829 - val_accuracy: 0.9780\n",
      "Epoch 7/10\n",
      "375/375 [==============================] - 2s 6ms/step - loss: 0.0249 - accuracy: 0.9925 - val_loss: 0.0838 - val_accuracy: 0.9757\n",
      "Epoch 8/10\n",
      "375/375 [==============================] - 2s 6ms/step - loss: 0.0181 - accuracy: 0.9947 - val_loss: 0.0828 - val_accuracy: 0.9784\n",
      "Epoch 9/10\n",
      "375/375 [==============================] - 2s 6ms/step - loss: 0.0138 - accuracy: 0.9961 - val_loss: 0.0862 - val_accuracy: 0.9784\n",
      "Epoch 10/10\n",
      "375/375 [==============================] - 2s 6ms/step - loss: 0.0109 - accuracy: 0.9973 - val_loss: 0.0970 - val_accuracy: 0.9779\n"
     ]
    }
   ],
   "source": [
    "from tensorflow import keras\n",
    "from tensorflow.keras import layers\n",
    "\n",
    "def get_model():\n",
    "    model = keras.Sequential([\n",
    "        layers.Dense(512, activation=\"relu\"),\n",
    "        layers.Dense(10, activation=\"softmax\")\n",
    "    ])\n",
    "    model.compile(optimizer=\"rmsprop\",\n",
    "                  loss=\"sparse_categorical_crossentropy\",\n",
    "                  metrics=[\"accuracy\"])\n",
    "    return model\n",
    "\n",
    "model = get_model()\n",
    "history_noise = model.fit(\n",
    "    train_images_with_noise_channels, train_labels,\n",
    "    epochs=10,\n",
    "    batch_size=128,\n",
    "    validation_split=0.2)\n",
    "\n",
    "model = get_model()\n",
    "history_zeros = model.fit(\n",
    "    train_images_with_zeros_channels, train_labels,\n",
    "    epochs=10,\n",
    "    batch_size=128,\n",
    "    validation_split=0.2)"
   ]
  },
  {
   "cell_type": "markdown",
   "metadata": {
    "colab_type": "text"
   },
   "source": [
    "**Plotting a validation accuracy comparison**"
   ]
  },
  {
   "cell_type": "code",
   "execution_count": 3,
   "metadata": {
    "colab_type": "code"
   },
   "outputs": [
    {
     "data": {
      "text/plain": [
       "<matplotlib.legend.Legend at 0x1f11be46910>"
      ]
     },
     "execution_count": 3,
     "metadata": {},
     "output_type": "execute_result"
    },
    {
     "data": {
      "image/png": "[encoded data removed]",
      "text/plain": [
       "<Figure size 640x480 with 1 Axes>"
      ]
     },
     "metadata": {},
     "output_type": "display_data"
    }
   ],
   "source": [
    "import matplotlib.pyplot as plt\n",
    "val_acc_noise = history_noise.history[\"val_accuracy\"]\n",
    "val_acc_zeros = history_zeros.history[\"val_accuracy\"]\n",
    "epochs = range(1, 11)\n",
    "plt.plot(epochs, val_acc_noise, \"b-\",\n",
    "         label=\"Validation accuracy with noise channels\")\n",
    "plt.plot(epochs, val_acc_zeros, \"b--\",\n",
    "         label=\"Validation accuracy with zeros channels\")\n",
    "plt.title(\"Effect of noise channels on validation accuracy\")\n",
    "plt.xlabel(\"Epochs\")\n",
    "plt.ylabel(\"Accuracy\")\n",
    "plt.legend()"
   ]
  },
  {
   "cell_type": "markdown",
   "metadata": {
    "colab_type": "text"
   },
   "source": [
    "### The nature of generalization in deep learning"
   ]
  },
  {
   "cell_type": "markdown",
   "metadata": {
    "colab_type": "text"
   },
   "source": [
    "**Fitting a MNIST model with randomly shuffled labels**"
   ]
  },
  {
   "cell_type": "code",
   "execution_count": 4,
   "metadata": {
    "colab_type": "code"
   },
   "outputs": [
    {
     "name": "stdout",
     "output_type": "stream",
     "text": [
      "Epoch 1/100\n",
      "407/407 [==============================] - 2s 4ms/step - loss: 2.3163 - accuracy: 0.1041 - val_loss: 2.3070 - val_accuracy: 0.1040\n",
      "Epoch 2/100\n",
      "407/407 [==============================] - 2s 4ms/step - loss: 2.3010 - accuracy: 0.1161 - val_loss: 2.3119 - val_accuracy: 0.1002\n",
      "Epoch 3/100\n",
      "407/407 [==============================] - 2s 4ms/step - loss: 2.2920 - accuracy: 0.1287 - val_loss: 2.3197 - val_accuracy: 0.1021\n",
      "Epoch 4/100\n",
      "407/407 [==============================] - 2s 4ms/step - loss: 2.2791 - accuracy: 0.1408 - val_loss: 2.3287 - val_accuracy: 0.1034\n",
      "Epoch 5/100\n",
      "407/407 [==============================] - 2s 4ms/step - loss: 2.2619 - accuracy: 0.1500 - val_loss: 2.3332 - val_accuracy: 0.1052\n",
      "Epoch 6/100\n",
      "407/407 [==============================] - 2s 4ms/step - loss: 2.2408 - accuracy: 0.1675 - val_loss: 2.3540 - val_accuracy: 0.1013\n",
      "Epoch 7/100\n",
      "407/407 [==============================] - 2s 4ms/step - loss: 2.2169 - accuracy: 0.1801 - val_loss: 2.3676 - val_accuracy: 0.1018\n",
      "Epoch 8/100\n",
      "407/407 [==============================] - 2s 4ms/step - loss: 2.1889 - accuracy: 0.1966 - val_loss: 2.3752 - val_accuracy: 0.1038\n",
      "Epoch 9/100\n",
      "407/407 [==============================] - 2s 4ms/step - loss: 2.1596 - accuracy: 0.2142 - val_loss: 2.4018 - val_accuracy: 0.1062\n",
      "Epoch 10/100\n",
      "407/407 [==============================] - 2s 4ms/step - loss: 2.1271 - accuracy: 0.2301 - val_loss: 2.4257 - val_accuracy: 0.1055\n",
      "Epoch 11/100\n",
      "407/407 [==============================] - 2s 4ms/step - loss: 2.0959 - accuracy: 0.2465 - val_loss: 2.4433 - val_accuracy: 0.1073\n",
      "Epoch 12/100\n",
      "407/407 [==============================] - 2s 4ms/step - loss: 2.0611 - accuracy: 0.2590 - val_loss: 2.4779 - val_accuracy: 0.1048\n",
      "Epoch 13/100\n",
      "407/407 [==============================] - 2s 4ms/step - loss: 2.0272 - accuracy: 0.2762 - val_loss: 2.5044 - val_accuracy: 0.1031\n",
      "Epoch 14/100\n",
      "407/407 [==============================] - 2s 4ms/step - loss: 1.9929 - accuracy: 0.2912 - val_loss: 2.5330 - val_accuracy: 0.1010\n",
      "Epoch 15/100\n",
      "407/407 [==============================] - 2s 4ms/step - loss: 1.9579 - accuracy: 0.3033 - val_loss: 2.5589 - val_accuracy: 0.1083\n",
      "Epoch 16/100\n",
      "407/407 [==============================] - 2s 4ms/step - loss: 1.9230 - accuracy: 0.3199 - val_loss: 2.5929 - val_accuracy: 0.1070\n",
      "Epoch 17/100\n",
      "407/407 [==============================] - 2s 4ms/step - loss: 1.8882 - accuracy: 0.3371 - val_loss: 2.6363 - val_accuracy: 0.1042\n",
      "Epoch 18/100\n",
      "407/407 [==============================] - 2s 4ms/step - loss: 1.8551 - accuracy: 0.3494 - val_loss: 2.6685 - val_accuracy: 0.1031\n",
      "Epoch 19/100\n",
      "407/407 [==============================] - 2s 4ms/step - loss: 1.8228 - accuracy: 0.3623 - val_loss: 2.7016 - val_accuracy: 0.1049\n",
      "Epoch 20/100\n",
      "407/407 [==============================] - 2s 4ms/step - loss: 1.7898 - accuracy: 0.3743 - val_loss: 2.7415 - val_accuracy: 0.1063\n",
      "Epoch 21/100\n",
      "407/407 [==============================] - 2s 4ms/step - loss: 1.7565 - accuracy: 0.3860 - val_loss: 2.7929 - val_accuracy: 0.1019\n",
      "Epoch 22/100\n",
      "407/407 [==============================] - 2s 4ms/step - loss: 1.7252 - accuracy: 0.3993 - val_loss: 2.8061 - val_accuracy: 0.1055\n",
      "Epoch 23/100\n",
      "407/407 [==============================] - 2s 4ms/step - loss: 1.6968 - accuracy: 0.4095 - val_loss: 2.8449 - val_accuracy: 0.1048\n",
      "Epoch 24/100\n",
      "407/407 [==============================] - 2s 4ms/step - loss: 1.6659 - accuracy: 0.4210 - val_loss: 2.9085 - val_accuracy: 0.1004\n",
      "Epoch 25/100\n",
      "407/407 [==============================] - 2s 4ms/step - loss: 1.6360 - accuracy: 0.4327 - val_loss: 2.9418 - val_accuracy: 0.0987\n",
      "Epoch 26/100\n",
      "407/407 [==============================] - 2s 4ms/step - loss: 1.6066 - accuracy: 0.4428 - val_loss: 2.9766 - val_accuracy: 0.1024\n",
      "Epoch 27/100\n",
      "407/407 [==============================] - 2s 4ms/step - loss: 1.5788 - accuracy: 0.4568 - val_loss: 3.0101 - val_accuracy: 0.1047\n",
      "Epoch 28/100\n",
      "407/407 [==============================] - 2s 4ms/step - loss: 1.5524 - accuracy: 0.4661 - val_loss: 3.0726 - val_accuracy: 0.1026\n",
      "Epoch 29/100\n",
      "407/407 [==============================] - 2s 4ms/step - loss: 1.5261 - accuracy: 0.4753 - val_loss: 3.1066 - val_accuracy: 0.0983\n",
      "Epoch 30/100\n",
      "407/407 [==============================] - 2s 4ms/step - loss: 1.4978 - accuracy: 0.4865 - val_loss: 3.1288 - val_accuracy: 0.1061\n",
      "Epoch 31/100\n",
      "407/407 [==============================] - 2s 4ms/step - loss: 1.4733 - accuracy: 0.4956 - val_loss: 3.1802 - val_accuracy: 0.1047\n",
      "Epoch 32/100\n",
      "407/407 [==============================] - 2s 4ms/step - loss: 1.4498 - accuracy: 0.5025 - val_loss: 3.2234 - val_accuracy: 0.1032\n",
      "Epoch 33/100\n",
      "407/407 [==============================] - 2s 4ms/step - loss: 1.4240 - accuracy: 0.5161 - val_loss: 3.2851 - val_accuracy: 0.1006\n",
      "Epoch 34/100\n",
      "407/407 [==============================] - 2s 4ms/step - loss: 1.4006 - accuracy: 0.5195 - val_loss: 3.3317 - val_accuracy: 0.1031\n",
      "Epoch 35/100\n",
      "407/407 [==============================] - 2s 4ms/step - loss: 1.3802 - accuracy: 0.5281 - val_loss: 3.3922 - val_accuracy: 0.1027\n",
      "Epoch 36/100\n",
      "407/407 [==============================] - 2s 4ms/step - loss: 1.3564 - accuracy: 0.5371 - val_loss: 3.4662 - val_accuracy: 0.1013\n",
      "Epoch 37/100\n",
      "407/407 [==============================] - 2s 4ms/step - loss: 1.3326 - accuracy: 0.5455 - val_loss: 3.5041 - val_accuracy: 0.0992\n",
      "Epoch 38/100\n",
      "407/407 [==============================] - 2s 4ms/step - loss: 1.3107 - accuracy: 0.5552 - val_loss: 3.5208 - val_accuracy: 0.1040\n",
      "Epoch 39/100\n",
      "407/407 [==============================] - 2s 4ms/step - loss: 1.2907 - accuracy: 0.5607 - val_loss: 3.5868 - val_accuracy: 0.1044\n",
      "Epoch 40/100\n",
      "407/407 [==============================] - 2s 4ms/step - loss: 1.2687 - accuracy: 0.5679 - val_loss: 3.6503 - val_accuracy: 0.1028\n",
      "Epoch 41/100\n",
      "407/407 [==============================] - 2s 4ms/step - loss: 1.2495 - accuracy: 0.5759 - val_loss: 3.6890 - val_accuracy: 0.1054\n",
      "Epoch 42/100\n",
      "407/407 [==============================] - 2s 4ms/step - loss: 1.2284 - accuracy: 0.5839 - val_loss: 3.7384 - val_accuracy: 0.1037\n",
      "Epoch 43/100\n",
      "407/407 [==============================] - 2s 4ms/step - loss: 1.2095 - accuracy: 0.5909 - val_loss: 3.7758 - val_accuracy: 0.1009\n",
      "Epoch 44/100\n",
      "407/407 [==============================] - 2s 4ms/step - loss: 1.1894 - accuracy: 0.5970 - val_loss: 3.8164 - val_accuracy: 0.1031\n",
      "Epoch 45/100\n",
      "407/407 [==============================] - 2s 4ms/step - loss: 1.1720 - accuracy: 0.6035 - val_loss: 3.8626 - val_accuracy: 0.1029\n",
      "Epoch 46/100\n",
      "407/407 [==============================] - 2s 4ms/step - loss: 1.1557 - accuracy: 0.6094 - val_loss: 3.9278 - val_accuracy: 0.1063\n",
      "Epoch 47/100\n",
      "407/407 [==============================] - 2s 4ms/step - loss: 1.1367 - accuracy: 0.6156 - val_loss: 3.9770 - val_accuracy: 0.1039\n",
      "Epoch 48/100\n",
      "407/407 [==============================] - 2s 4ms/step - loss: 1.1180 - accuracy: 0.6226 - val_loss: 4.0538 - val_accuracy: 0.1038\n",
      "Epoch 49/100\n",
      "407/407 [==============================] - 2s 4ms/step - loss: 1.1008 - accuracy: 0.6293 - val_loss: 4.1266 - val_accuracy: 0.1042\n",
      "Epoch 50/100\n",
      "407/407 [==============================] - 2s 4ms/step - loss: 1.0860 - accuracy: 0.6328 - val_loss: 4.1654 - val_accuracy: 0.1014\n",
      "Epoch 51/100\n",
      "407/407 [==============================] - 2s 4ms/step - loss: 1.0691 - accuracy: 0.6409 - val_loss: 4.2261 - val_accuracy: 0.1045\n",
      "Epoch 52/100\n",
      "407/407 [==============================] - 2s 4ms/step - loss: 1.0510 - accuracy: 0.6445 - val_loss: 4.3048 - val_accuracy: 0.1009\n",
      "Epoch 53/100\n",
      "407/407 [==============================] - 2s 4ms/step - loss: 1.0357 - accuracy: 0.6488 - val_loss: 4.2743 - val_accuracy: 0.1026\n",
      "Epoch 54/100\n",
      "407/407 [==============================] - 2s 4ms/step - loss: 1.0200 - accuracy: 0.6576 - val_loss: 4.3516 - val_accuracy: 0.1021\n",
      "Epoch 55/100\n",
      "407/407 [==============================] - 2s 4ms/step - loss: 1.0057 - accuracy: 0.6626 - val_loss: 4.4547 - val_accuracy: 0.0997\n",
      "Epoch 56/100\n",
      "407/407 [==============================] - 2s 4ms/step - loss: 0.9906 - accuracy: 0.6677 - val_loss: 4.4908 - val_accuracy: 0.1022\n",
      "Epoch 57/100\n",
      "407/407 [==============================] - 2s 4ms/step - loss: 0.9779 - accuracy: 0.6718 - val_loss: 4.5370 - val_accuracy: 0.1038\n"
     ]
    },
    {
     "name": "stdout",
     "output_type": "stream",
     "text": [
      "Epoch 58/100\n",
      "407/407 [==============================] - 2s 4ms/step - loss: 0.9615 - accuracy: 0.6777 - val_loss: 4.5938 - val_accuracy: 0.1047\n",
      "Epoch 59/100\n",
      "407/407 [==============================] - 2s 4ms/step - loss: 0.9472 - accuracy: 0.6814 - val_loss: 4.6266 - val_accuracy: 0.1051\n",
      "Epoch 60/100\n",
      "407/407 [==============================] - 2s 4ms/step - loss: 0.9312 - accuracy: 0.6885 - val_loss: 4.6858 - val_accuracy: 0.1029\n",
      "Epoch 61/100\n",
      "407/407 [==============================] - 2s 4ms/step - loss: 0.9186 - accuracy: 0.6930 - val_loss: 4.7654 - val_accuracy: 0.1015\n",
      "Epoch 62/100\n",
      "407/407 [==============================] - 2s 4ms/step - loss: 0.9078 - accuracy: 0.6967 - val_loss: 4.8388 - val_accuracy: 0.1013\n",
      "Epoch 63/100\n",
      "407/407 [==============================] - 2s 4ms/step - loss: 0.8916 - accuracy: 0.7012 - val_loss: 4.8725 - val_accuracy: 0.1007\n",
      "Epoch 64/100\n",
      "407/407 [==============================] - 2s 4ms/step - loss: 0.8789 - accuracy: 0.7062 - val_loss: 4.9236 - val_accuracy: 0.1039\n",
      "Epoch 65/100\n",
      "407/407 [==============================] - 2s 4ms/step - loss: 0.8658 - accuracy: 0.7115 - val_loss: 4.9816 - val_accuracy: 0.1055\n",
      "Epoch 66/100\n",
      "407/407 [==============================] - 2s 4ms/step - loss: 0.8534 - accuracy: 0.7171 - val_loss: 5.0715 - val_accuracy: 0.1042\n",
      "Epoch 67/100\n",
      "407/407 [==============================] - 2s 4ms/step - loss: 0.8416 - accuracy: 0.7205 - val_loss: 5.1404 - val_accuracy: 0.1060\n",
      "Epoch 68/100\n",
      "407/407 [==============================] - 2s 4ms/step - loss: 0.8293 - accuracy: 0.7245 - val_loss: 5.1503 - val_accuracy: 0.1072\n",
      "Epoch 69/100\n",
      "407/407 [==============================] - 2s 4ms/step - loss: 0.8150 - accuracy: 0.7305 - val_loss: 5.2328 - val_accuracy: 0.1023\n",
      "Epoch 70/100\n",
      "407/407 [==============================] - 2s 4ms/step - loss: 0.8033 - accuracy: 0.7346 - val_loss: 5.2774 - val_accuracy: 0.1071\n",
      "Epoch 71/100\n",
      "407/407 [==============================] - 2s 4ms/step - loss: 0.7948 - accuracy: 0.7364 - val_loss: 5.3730 - val_accuracy: 0.1079\n",
      "Epoch 72/100\n",
      "407/407 [==============================] - 2s 4ms/step - loss: 0.7825 - accuracy: 0.7392 - val_loss: 5.4197 - val_accuracy: 0.1058\n",
      "Epoch 73/100\n",
      "407/407 [==============================] - 2s 4ms/step - loss: 0.7738 - accuracy: 0.7425 - val_loss: 5.5315 - val_accuracy: 0.1028\n",
      "Epoch 74/100\n",
      "407/407 [==============================] - 2s 4ms/step - loss: 0.7602 - accuracy: 0.7482 - val_loss: 5.5755 - val_accuracy: 0.1065\n",
      "Epoch 75/100\n",
      "407/407 [==============================] - 2s 4ms/step - loss: 0.7493 - accuracy: 0.7507 - val_loss: 5.6176 - val_accuracy: 0.1020\n",
      "Epoch 76/100\n",
      "407/407 [==============================] - 2s 4ms/step - loss: 0.7415 - accuracy: 0.7552 - val_loss: 5.6418 - val_accuracy: 0.1067\n",
      "Epoch 77/100\n",
      "407/407 [==============================] - 2s 4ms/step - loss: 0.7291 - accuracy: 0.7619 - val_loss: 5.7608 - val_accuracy: 0.1011\n",
      "Epoch 78/100\n",
      "407/407 [==============================] - 2s 4ms/step - loss: 0.7164 - accuracy: 0.7644 - val_loss: 5.8120 - val_accuracy: 0.1059\n",
      "Epoch 79/100\n",
      "407/407 [==============================] - 2s 4ms/step - loss: 0.7087 - accuracy: 0.7661 - val_loss: 5.8896 - val_accuracy: 0.1044\n",
      "Epoch 80/100\n",
      "407/407 [==============================] - 2s 4ms/step - loss: 0.6978 - accuracy: 0.7707 - val_loss: 5.9242 - val_accuracy: 0.1047\n",
      "Epoch 81/100\n",
      "407/407 [==============================] - 2s 4ms/step - loss: 0.6888 - accuracy: 0.7747 - val_loss: 6.0591 - val_accuracy: 0.1027\n",
      "Epoch 82/100\n",
      "407/407 [==============================] - 2s 4ms/step - loss: 0.6789 - accuracy: 0.7766 - val_loss: 6.0913 - val_accuracy: 0.1032\n",
      "Epoch 83/100\n",
      "407/407 [==============================] - 2s 4ms/step - loss: 0.6701 - accuracy: 0.7798 - val_loss: 6.1395 - val_accuracy: 0.1019\n",
      "Epoch 84/100\n",
      "407/407 [==============================] - 2s 4ms/step - loss: 0.6599 - accuracy: 0.7857 - val_loss: 6.1958 - val_accuracy: 0.1006\n",
      "Epoch 85/100\n",
      "407/407 [==============================] - 2s 4ms/step - loss: 0.6524 - accuracy: 0.7840 - val_loss: 6.3233 - val_accuracy: 0.1008\n",
      "Epoch 86/100\n",
      "407/407 [==============================] - 2s 4ms/step - loss: 0.6437 - accuracy: 0.7887 - val_loss: 6.3014 - val_accuracy: 0.1028\n",
      "Epoch 87/100\n",
      "407/407 [==============================] - 2s 4ms/step - loss: 0.6341 - accuracy: 0.7918 - val_loss: 6.3803 - val_accuracy: 0.1049\n",
      "Epoch 88/100\n",
      "407/407 [==============================] - 2s 4ms/step - loss: 0.6254 - accuracy: 0.7965 - val_loss: 6.4949 - val_accuracy: 0.1048\n",
      "Epoch 89/100\n",
      "407/407 [==============================] - 2s 4ms/step - loss: 0.6155 - accuracy: 0.7995 - val_loss: 6.5448 - val_accuracy: 0.1025\n",
      "Epoch 90/100\n",
      "407/407 [==============================] - 2s 4ms/step - loss: 0.6075 - accuracy: 0.8023 - val_loss: 6.6170 - val_accuracy: 0.1032\n",
      "Epoch 91/100\n",
      "407/407 [==============================] - 2s 4ms/step - loss: 0.6018 - accuracy: 0.8029 - val_loss: 6.6940 - val_accuracy: 0.1028\n",
      "Epoch 92/100\n",
      "407/407 [==============================] - 2s 4ms/step - loss: 0.5907 - accuracy: 0.8068 - val_loss: 6.7350 - val_accuracy: 0.1032\n",
      "Epoch 93/100\n",
      "407/407 [==============================] - 2s 4ms/step - loss: 0.5854 - accuracy: 0.8077 - val_loss: 6.7481 - val_accuracy: 0.1058\n",
      "Epoch 94/100\n",
      "407/407 [==============================] - 2s 4ms/step - loss: 0.5761 - accuracy: 0.8124 - val_loss: 6.8713 - val_accuracy: 0.1028\n",
      "Epoch 95/100\n",
      "407/407 [==============================] - 2s 4ms/step - loss: 0.5693 - accuracy: 0.8136 - val_loss: 6.9481 - val_accuracy: 0.1038\n",
      "Epoch 96/100\n",
      "407/407 [==============================] - 2s 4ms/step - loss: 0.5614 - accuracy: 0.8175 - val_loss: 6.9707 - val_accuracy: 0.1051\n",
      "Epoch 97/100\n",
      "407/407 [==============================] - 2s 4ms/step - loss: 0.5544 - accuracy: 0.8190 - val_loss: 7.0696 - val_accuracy: 0.1077\n",
      "Epoch 98/100\n",
      "407/407 [==============================] - 2s 4ms/step - loss: 0.5470 - accuracy: 0.8228 - val_loss: 7.1147 - val_accuracy: 0.1023\n",
      "Epoch 99/100\n",
      "407/407 [==============================] - 2s 4ms/step - loss: 0.5383 - accuracy: 0.8263 - val_loss: 7.2043 - val_accuracy: 0.1042\n",
      "Epoch 100/100\n",
      "407/407 [==============================] - 2s 4ms/step - loss: 0.5327 - accuracy: 0.8254 - val_loss: 7.2296 - val_accuracy: 0.1072\n"
     ]
    },
    {
     "data": {
      "text/plain": [
       "<tensorflow.python.keras.callbacks.History at 0x1f10f365250>"
      ]
     },
     "execution_count": 4,
     "metadata": {},
     "output_type": "execute_result"
    }
   ],
   "source": [
    "(train_images, train_labels), _ = mnist.load_data()\n",
    "train_images = train_images.reshape((60000, 28 * 28))\n",
    "train_images = train_images.astype(\"float32\") / 255\n",
    "\n",
    "random_train_labels = train_labels[:]\n",
    "np.random.shuffle(random_train_labels)\n",
    "\n",
    "model = keras.Sequential([\n",
    "    layers.Dense(512, activation=\"relu\"),\n",
    "    layers.Dense(10, activation=\"softmax\")\n",
    "])\n",
    "model.compile(optimizer=\"rmsprop\",\n",
    "              loss=\"sparse_categorical_crossentropy\",\n",
    "              metrics=[\"accuracy\"])\n",
    "model.fit(train_images, random_train_labels,\n",
    "          epochs=100,\n",
    "          batch_size=118,\n",
    "          validation_split=0.2)"
   ]
  },
  {
   "cell_type": "markdown",
   "metadata": {
    "colab_type": "text"
   },
   "source": [
    "#### The manifold hypothesis"
   ]
  },
  {
   "cell_type": "markdown",
   "metadata": {
    "colab_type": "text"
   },
   "source": [
    "#### Interpolation as a source of generalization"
   ]
  },
  {
   "cell_type": "markdown",
   "metadata": {
    "colab_type": "text"
   },
   "source": [
    "#### Why deep learning works"
   ]
  },
  {
   "cell_type": "markdown",
   "metadata": {
    "colab_type": "text"
   },
   "source": [
    "#### Training data is paramount"
   ]
  },
  {
   "cell_type": "markdown",
   "metadata": {
    "colab_type": "text"
   },
   "source": [
    "## Evaluating machine-learning models"
   ]
  },
  {
   "cell_type": "markdown",
   "metadata": {
    "colab_type": "text"
   },
   "source": [
    "### Training, validation, and test sets"
   ]
  },
  {
   "cell_type": "markdown",
   "metadata": {
    "colab_type": "text"
   },
   "source": [
    "#### Simple hold-out validation"
   ]
  },
  {
   "cell_type": "markdown",
   "metadata": {
    "colab_type": "text"
   },
   "source": [
    "#### K-fold validation"
   ]
  },
  {
   "cell_type": "markdown",
   "metadata": {
    "colab_type": "text"
   },
   "source": [
    "#### Iterated K-fold validation with shuffling"
   ]
  },
  {
   "cell_type": "markdown",
   "metadata": {
    "colab_type": "text"
   },
   "source": [
    "### Beating a common-sense baseline"
   ]
  },
  {
   "cell_type": "markdown",
   "metadata": {
    "colab_type": "text"
   },
   "source": [
    "### Things to keep in mind about model evaluation"
   ]
  },
  {
   "cell_type": "markdown",
   "metadata": {
    "colab_type": "text"
   },
   "source": [
    "## Improving model fit"
   ]
  },
  {
   "cell_type": "markdown",
   "metadata": {
    "colab_type": "text"
   },
   "source": [
    "### Tuning key gradient descent parameters"
   ]
  },
  {
   "cell_type": "markdown",
   "metadata": {
    "colab_type": "text"
   },
   "source": [
    "**Training a MNIST model with an incorrectly high learning rate**"
   ]
  },
  {
   "cell_type": "code",
   "execution_count": 5,
   "metadata": {
    "colab_type": "code"
   },
   "outputs": [
    {
     "name": "stdout",
     "output_type": "stream",
     "text": [
      "Epoch 1/10\n",
      "375/375 [==============================] - 2s 4ms/step - loss: 991.8073 - accuracy: 0.3938 - val_loss: 4.2276 - val_accuracy: 0.2942\n",
      "Epoch 2/10\n",
      "375/375 [==============================] - 2s 4ms/step - loss: 5.4421 - accuracy: 0.2496 - val_loss: 2.0773 - val_accuracy: 0.2515\n",
      "Epoch 3/10\n",
      "375/375 [==============================] - 2s 4ms/step - loss: 2.6558 - accuracy: 0.2456 - val_loss: 2.5030 - val_accuracy: 0.2665\n",
      "Epoch 4/10\n",
      "375/375 [==============================] - 2s 4ms/step - loss: 2.4968 - accuracy: 0.2231 - val_loss: 2.3417 - val_accuracy: 0.2437\n",
      "Epoch 5/10\n",
      "375/375 [==============================] - 2s 4ms/step - loss: 2.7891 - accuracy: 0.2636 - val_loss: 2.1926 - val_accuracy: 0.2192\n",
      "Epoch 6/10\n",
      "375/375 [==============================] - 2s 4ms/step - loss: 2.4576 - accuracy: 0.2471 - val_loss: 2.0216 - val_accuracy: 0.2154\n",
      "Epoch 7/10\n",
      "375/375 [==============================] - 2s 4ms/step - loss: 2.5087 - accuracy: 0.2548 - val_loss: 3.2990 - val_accuracy: 0.2649\n",
      "Epoch 8/10\n",
      "375/375 [==============================] - 2s 4ms/step - loss: 2.4198 - accuracy: 0.2518 - val_loss: 2.2533 - val_accuracy: 0.2729\n",
      "Epoch 9/10\n",
      "375/375 [==============================] - 2s 4ms/step - loss: 2.4486 - accuracy: 0.2901 - val_loss: 2.4635 - val_accuracy: 0.2948\n",
      "Epoch 10/10\n",
      "375/375 [==============================] - 2s 4ms/step - loss: 2.3942 - accuracy: 0.2783 - val_loss: 2.0467 - val_accuracy: 0.2342\n"
     ]
    },
    {
     "data": {
      "text/plain": [
       "<tensorflow.python.keras.callbacks.History at 0x1f112006100>"
      ]
     },
     "execution_count": 5,
     "metadata": {},
     "output_type": "execute_result"
    }
   ],
   "source": [
    "(train_images, train_labels), _ = mnist.load_data()\n",
    "train_images = train_images.reshape((60000, 28 * 28))\n",
    "train_images = train_images.astype(\"float32\") / 255\n",
    "\n",
    "model = keras.Sequential([\n",
    "    layers.Dense(512, activation=\"relu\"),\n",
    "    layers.Dense(10, activation=\"softmax\")\n",
    "])\n",
    "model.compile(optimizer=keras.optimizers.RMSprop(1.),\n",
    "              loss=\"sparse_categorical_crossentropy\",\n",
    "              metrics=[\"accuracy\"])\n",
    "model.fit(train_images, train_labels,\n",
    "          epochs=10,\n",
    "          batch_size=128,\n",
    "          validation_split=0.2)"
   ]
  },
  {
   "cell_type": "markdown",
   "metadata": {
    "colab_type": "text"
   },
   "source": [
    "**The same model with a more appropriate learning rate**"
   ]
  },
  {
   "cell_type": "code",
   "execution_count": 6,
   "metadata": {
    "colab_type": "code"
   },
   "outputs": [
    {
     "name": "stdout",
     "output_type": "stream",
     "text": [
      "Epoch 1/10\n",
      "375/375 [==============================] - 2s 4ms/step - loss: 0.3718 - accuracy: 0.9117 - val_loss: 0.1850 - val_accuracy: 0.9482\n",
      "Epoch 2/10\n",
      "375/375 [==============================] - 2s 4ms/step - loss: 0.1375 - accuracy: 0.9639 - val_loss: 0.1861 - val_accuracy: 0.9597\n",
      "Epoch 3/10\n",
      "375/375 [==============================] - 2s 4ms/step - loss: 0.1216 - accuracy: 0.9724 - val_loss: 0.1874 - val_accuracy: 0.9663\n",
      "Epoch 4/10\n",
      "375/375 [==============================] - 2s 4ms/step - loss: 0.0992 - accuracy: 0.9772 - val_loss: 0.1710 - val_accuracy: 0.9712\n",
      "Epoch 5/10\n",
      "375/375 [==============================] - 2s 4ms/step - loss: 0.0905 - accuracy: 0.9812 - val_loss: 0.2131 - val_accuracy: 0.9725\n",
      "Epoch 6/10\n",
      "375/375 [==============================] - 2s 4ms/step - loss: 0.0804 - accuracy: 0.9848 - val_loss: 0.2042 - val_accuracy: 0.9732\n",
      "Epoch 7/10\n",
      "375/375 [==============================] - 2s 4ms/step - loss: 0.0730 - accuracy: 0.9857 - val_loss: 0.2050 - val_accuracy: 0.9743\n",
      "Epoch 8/10\n",
      "375/375 [==============================] - 2s 4ms/step - loss: 0.0667 - accuracy: 0.9884 - val_loss: 0.2633 - val_accuracy: 0.9728\n",
      "Epoch 9/10\n",
      "375/375 [==============================] - 2s 4ms/step - loss: 0.0663 - accuracy: 0.9887 - val_loss: 0.2793 - val_accuracy: 0.9702\n",
      "Epoch 10/10\n",
      "375/375 [==============================] - 2s 4ms/step - loss: 0.0537 - accuracy: 0.9903 - val_loss: 0.2494 - val_accuracy: 0.9764\n"
     ]
    },
    {
     "data": {
      "text/plain": [
       "<tensorflow.python.keras.callbacks.History at 0x1f11213a670>"
      ]
     },
     "execution_count": 6,
     "metadata": {},
     "output_type": "execute_result"
    }
   ],
   "source": [
    "model = keras.Sequential([\n",
    "    layers.Dense(512, activation=\"relu\"),\n",
    "    layers.Dense(10, activation=\"softmax\")\n",
    "])\n",
    "model.compile(optimizer=keras.optimizers.RMSprop(1e-2),\n",
    "              loss=\"sparse_categorical_crossentropy\",\n",
    "              metrics=[\"accuracy\"])\n",
    "model.fit(train_images, train_labels,\n",
    "          epochs=10,\n",
    "          batch_size=128,\n",
    "          validation_split=0.2)"
   ]
  },
  {
   "cell_type": "markdown",
   "metadata": {
    "colab_type": "text"
   },
   "source": [
    "### Leveraging better architecture priors"
   ]
  },
  {
   "cell_type": "markdown",
   "metadata": {
    "colab_type": "text"
   },
   "source": [
    "### Increasing model capacity"
   ]
  },
  {
   "cell_type": "markdown",
   "metadata": {
    "colab_type": "text"
   },
   "source": [
    "**A simple logistic regression on MNIST**"
   ]
  },
  {
   "cell_type": "code",
   "execution_count": 7,
   "metadata": {
    "colab_type": "code"
   },
   "outputs": [
    {
     "name": "stdout",
     "output_type": "stream",
     "text": [
      "Epoch 1/20\n",
      "375/375 [==============================] - 0s 743us/step - loss: 0.6728 - accuracy: 0.8320 - val_loss: 0.3592 - val_accuracy: 0.9032\n",
      "Epoch 2/20\n",
      "375/375 [==============================] - 0s 579us/step - loss: 0.3512 - accuracy: 0.9037 - val_loss: 0.3078 - val_accuracy: 0.9133\n",
      "Epoch 3/20\n",
      "375/375 [==============================] - 0s 607us/step - loss: 0.3153 - accuracy: 0.9124 - val_loss: 0.2900 - val_accuracy: 0.9193\n",
      "Epoch 4/20\n",
      "375/375 [==============================] - 0s 605us/step - loss: 0.2990 - accuracy: 0.9165 - val_loss: 0.2814 - val_accuracy: 0.9217\n",
      "Epoch 5/20\n",
      "375/375 [==============================] - 0s 601us/step - loss: 0.2893 - accuracy: 0.9192 - val_loss: 0.2786 - val_accuracy: 0.9237\n",
      "Epoch 6/20\n",
      "375/375 [==============================] - 0s 590us/step - loss: 0.2829 - accuracy: 0.9201 - val_loss: 0.2718 - val_accuracy: 0.9252\n",
      "Epoch 7/20\n",
      "375/375 [==============================] - 0s 585us/step - loss: 0.2777 - accuracy: 0.9221 - val_loss: 0.2692 - val_accuracy: 0.9257\n",
      "Epoch 8/20\n",
      "375/375 [==============================] - 0s 618us/step - loss: 0.2744 - accuracy: 0.9235 - val_loss: 0.2671 - val_accuracy: 0.9273\n",
      "Epoch 9/20\n",
      "375/375 [==============================] - 0s 587us/step - loss: 0.2712 - accuracy: 0.9247 - val_loss: 0.2666 - val_accuracy: 0.9256\n",
      "Epoch 10/20\n",
      "375/375 [==============================] - 0s 599us/step - loss: 0.2687 - accuracy: 0.9254 - val_loss: 0.2644 - val_accuracy: 0.9290\n",
      "Epoch 11/20\n",
      "375/375 [==============================] - 0s 592us/step - loss: 0.2666 - accuracy: 0.9261 - val_loss: 0.2638 - val_accuracy: 0.9297\n",
      "Epoch 12/20\n",
      "375/375 [==============================] - 0s 619us/step - loss: 0.2647 - accuracy: 0.9272 - val_loss: 0.2627 - val_accuracy: 0.9297\n",
      "Epoch 13/20\n",
      "375/375 [==============================] - 0s 611us/step - loss: 0.2630 - accuracy: 0.9280 - val_loss: 0.2630 - val_accuracy: 0.9294\n",
      "Epoch 14/20\n",
      "375/375 [==============================] - 0s 586us/step - loss: 0.2617 - accuracy: 0.9278 - val_loss: 0.2629 - val_accuracy: 0.9288\n",
      "Epoch 15/20\n",
      "375/375 [==============================] - 0s 607us/step - loss: 0.2606 - accuracy: 0.9281 - val_loss: 0.2622 - val_accuracy: 0.9293\n",
      "Epoch 16/20\n",
      "375/375 [==============================] - 0s 611us/step - loss: 0.2591 - accuracy: 0.9283 - val_loss: 0.2615 - val_accuracy: 0.9310\n",
      "Epoch 17/20\n",
      "375/375 [==============================] - 0s 606us/step - loss: 0.2582 - accuracy: 0.9296 - val_loss: 0.2621 - val_accuracy: 0.9294\n",
      "Epoch 18/20\n",
      "375/375 [==============================] - 0s 616us/step - loss: 0.2573 - accuracy: 0.9296 - val_loss: 0.2618 - val_accuracy: 0.9293\n",
      "Epoch 19/20\n",
      "375/375 [==============================] - 0s 619us/step - loss: 0.2563 - accuracy: 0.9301 - val_loss: 0.2603 - val_accuracy: 0.9307\n",
      "Epoch 20/20\n",
      "375/375 [==============================] - 0s 609us/step - loss: 0.2558 - accuracy: 0.9306 - val_loss: 0.2607 - val_accuracy: 0.9299\n"
     ]
    }
   ],
   "source": [
    "model = keras.Sequential([layers.Dense(10, activation=\"softmax\")])\n",
    "model.compile(optimizer=\"rmsprop\",\n",
    "              loss=\"sparse_categorical_crossentropy\",\n",
    "              metrics=[\"accuracy\"])\n",
    "history_small_model = model.fit(\n",
    "    train_images, train_labels,\n",
    "    epochs=20,\n",
    "    batch_size=128,\n",
    "    validation_split=0.2)"
   ]
  },
  {
   "cell_type": "code",
   "execution_count": 8,
   "metadata": {
    "colab_type": "code"
   },
   "outputs": [
    {
     "data": {
      "text/plain": [
       "<matplotlib.legend.Legend at 0x1f11bf6d1c0>"
      ]
     },
     "execution_count": 8,
     "metadata": {},
     "output_type": "execute_result"
    },
    {
     "data": {
      "image/png": "[encoded data removed]",
      "text/plain": [
       "<Figure size 640x480 with 1 Axes>"
      ]
     },
     "metadata": {},
     "output_type": "display_data"
    }
   ],
   "source": [
    "import matplotlib.pyplot as plt\n",
    "val_loss = history_small_model.history[\"val_loss\"]\n",
    "epochs = range(1, 21)\n",
    "plt.plot(epochs, val_loss, \"b--\",\n",
    "         label=\"Validation loss\")\n",
    "plt.title(\"Effect of insufficient model capacity on validation loss\")\n",
    "plt.xlabel(\"Epochs\")\n",
    "plt.ylabel(\"Loss\")\n",
    "plt.legend()"
   ]
  },
  {
   "cell_type": "code",
   "execution_count": 9,
   "metadata": {
    "colab_type": "code"
   },
   "outputs": [
    {
     "name": "stdout",
     "output_type": "stream",
     "text": [
      "Epoch 1/100\n",
      "375/375 [==============================] - 1s 2ms/step - loss: 0.3603 - accuracy: 0.8966 - val_loss: 0.1766 - val_accuracy: 0.9513\n",
      "Epoch 2/100\n",
      "375/375 [==============================] - 0s 1ms/step - loss: 0.1622 - accuracy: 0.9515 - val_loss: 0.1356 - val_accuracy: 0.9607\n",
      "Epoch 3/100\n",
      "375/375 [==============================] - 0s 992us/step - loss: 0.1150 - accuracy: 0.9648 - val_loss: 0.1121 - val_accuracy: 0.9661\n",
      "Epoch 4/100\n",
      "375/375 [==============================] - 0s 1ms/step - loss: 0.0896 - accuracy: 0.9734 - val_loss: 0.1235 - val_accuracy: 0.9622\n",
      "Epoch 5/100\n",
      "375/375 [==============================] - 0s 1ms/step - loss: 0.0720 - accuracy: 0.9780 - val_loss: 0.1061 - val_accuracy: 0.9695\n",
      "Epoch 6/100\n",
      "375/375 [==============================] - 0s 1ms/step - loss: 0.0608 - accuracy: 0.9816 - val_loss: 0.0951 - val_accuracy: 0.9728\n",
      "Epoch 7/100\n",
      "375/375 [==============================] - 0s 1ms/step - loss: 0.0493 - accuracy: 0.9850 - val_loss: 0.1064 - val_accuracy: 0.9697\n",
      "Epoch 8/100\n",
      "375/375 [==============================] - 0s 1ms/step - loss: 0.0427 - accuracy: 0.9869 - val_loss: 0.0932 - val_accuracy: 0.9747\n",
      "Epoch 9/100\n",
      "375/375 [==============================] - 0s 1ms/step - loss: 0.0351 - accuracy: 0.9894 - val_loss: 0.0997 - val_accuracy: 0.9728\n",
      "Epoch 10/100\n",
      "375/375 [==============================] - 0s 1ms/step - loss: 0.0296 - accuracy: 0.9913 - val_loss: 0.0917 - val_accuracy: 0.9749\n",
      "Epoch 11/100\n",
      "375/375 [==============================] - 0s 992us/step - loss: 0.0253 - accuracy: 0.9921 - val_loss: 0.1008 - val_accuracy: 0.9744\n",
      "Epoch 12/100\n",
      "375/375 [==============================] - 0s 1ms/step - loss: 0.0210 - accuracy: 0.9937 - val_loss: 0.1001 - val_accuracy: 0.9762\n",
      "Epoch 13/100\n",
      "375/375 [==============================] - 0s 1ms/step - loss: 0.0177 - accuracy: 0.9948 - val_loss: 0.1058 - val_accuracy: 0.9741\n",
      "Epoch 14/100\n",
      "375/375 [==============================] - 0s 1ms/step - loss: 0.0154 - accuracy: 0.9954 - val_loss: 0.1093 - val_accuracy: 0.9754\n",
      "Epoch 15/100\n",
      "375/375 [==============================] - 0s 1ms/step - loss: 0.0135 - accuracy: 0.9960 - val_loss: 0.1215 - val_accuracy: 0.9732\n",
      "Epoch 16/100\n",
      "375/375 [==============================] - 0s 989us/step - loss: 0.0113 - accuracy: 0.9965 - val_loss: 0.1263 - val_accuracy: 0.9758\n",
      "Epoch 17/100\n",
      "375/375 [==============================] - 0s 1ms/step - loss: 0.0101 - accuracy: 0.9967 - val_loss: 0.1199 - val_accuracy: 0.9763\n",
      "Epoch 18/100\n",
      "375/375 [==============================] - 0s 1ms/step - loss: 0.0080 - accuracy: 0.9977 - val_loss: 0.1303 - val_accuracy: 0.9746\n",
      "Epoch 19/100\n",
      "375/375 [==============================] - 0s 991us/step - loss: 0.0072 - accuracy: 0.9979 - val_loss: 0.1318 - val_accuracy: 0.9753\n",
      "Epoch 20/100\n",
      "375/375 [==============================] - 0s 1ms/step - loss: 0.0060 - accuracy: 0.9982 - val_loss: 0.1398 - val_accuracy: 0.9760\n",
      "Epoch 21/100\n",
      "375/375 [==============================] - 0s 1ms/step - loss: 0.0055 - accuracy: 0.9983 - val_loss: 0.1401 - val_accuracy: 0.9749\n",
      "Epoch 22/100\n",
      "375/375 [==============================] - 0s 981us/step - loss: 0.0039 - accuracy: 0.9988 - val_loss: 0.1627 - val_accuracy: 0.9729\n",
      "Epoch 23/100\n",
      "375/375 [==============================] - 0s 1ms/step - loss: 0.0041 - accuracy: 0.9987 - val_loss: 0.1455 - val_accuracy: 0.9764\n",
      "Epoch 24/100\n",
      "375/375 [==============================] - 0s 1ms/step - loss: 0.0044 - accuracy: 0.9985 - val_loss: 0.1537 - val_accuracy: 0.9740\n",
      "Epoch 25/100\n",
      "375/375 [==============================] - 0s 1ms/step - loss: 0.0032 - accuracy: 0.9990 - val_loss: 0.1545 - val_accuracy: 0.9773\n",
      "Epoch 26/100\n",
      "375/375 [==============================] - 0s 1ms/step - loss: 0.0029 - accuracy: 0.9990 - val_loss: 0.1774 - val_accuracy: 0.9751\n",
      "Epoch 27/100\n",
      "375/375 [==============================] - 0s 1ms/step - loss: 0.0033 - accuracy: 0.9991 - val_loss: 0.1664 - val_accuracy: 0.9761\n",
      "Epoch 28/100\n",
      "375/375 [==============================] - 0s 995us/step - loss: 0.0032 - accuracy: 0.9990 - val_loss: 0.1723 - val_accuracy: 0.9738\n",
      "Epoch 29/100\n",
      "375/375 [==============================] - 0s 995us/step - loss: 0.0017 - accuracy: 0.9995 - val_loss: 0.1724 - val_accuracy: 0.9763\n",
      "Epoch 30/100\n",
      "375/375 [==============================] - 0s 1000us/step - loss: 0.0026 - accuracy: 0.9992 - val_loss: 0.1881 - val_accuracy: 0.9734\n",
      "Epoch 31/100\n",
      "375/375 [==============================] - 0s 976us/step - loss: 0.0019 - accuracy: 0.9995 - val_loss: 0.1882 - val_accuracy: 0.9760\n",
      "Epoch 32/100\n",
      "375/375 [==============================] - 0s 995us/step - loss: 0.0021 - accuracy: 0.9993 - val_loss: 0.1837 - val_accuracy: 0.9763\n",
      "Epoch 33/100\n",
      "375/375 [==============================] - 0s 1ms/step - loss: 0.0021 - accuracy: 0.9993 - val_loss: 0.1809 - val_accuracy: 0.9764\n",
      "Epoch 34/100\n",
      "375/375 [==============================] - 0s 1ms/step - loss: 0.0018 - accuracy: 0.9994 - val_loss: 0.1959 - val_accuracy: 0.9752\n",
      "Epoch 35/100\n",
      "375/375 [==============================] - 0s 985us/step - loss: 0.0013 - accuracy: 0.9996 - val_loss: 0.1982 - val_accuracy: 0.9759\n",
      "Epoch 36/100\n",
      "375/375 [==============================] - 0s 1ms/step - loss: 0.0014 - accuracy: 0.9996 - val_loss: 0.2245 - val_accuracy: 0.9725\n",
      "Epoch 37/100\n",
      "375/375 [==============================] - 0s 995us/step - loss: 0.0013 - accuracy: 0.9996 - val_loss: 0.2115 - val_accuracy: 0.9752\n",
      "Epoch 38/100\n",
      "375/375 [==============================] - 0s 997us/step - loss: 0.0011 - accuracy: 0.9996 - val_loss: 0.2108 - val_accuracy: 0.9760\n",
      "Epoch 39/100\n",
      "375/375 [==============================] - 0s 999us/step - loss: 8.2236e-04 - accuracy: 0.9996 - val_loss: 0.2111 - val_accuracy: 0.9766\n",
      "Epoch 40/100\n",
      "375/375 [==============================] - 0s 988us/step - loss: 9.9987e-04 - accuracy: 0.9996 - val_loss: 0.2104 - val_accuracy: 0.9758\n",
      "Epoch 41/100\n",
      "375/375 [==============================] - 0s 995us/step - loss: 9.8748e-04 - accuracy: 0.9997 - val_loss: 0.2137 - val_accuracy: 0.9783\n",
      "Epoch 42/100\n",
      "375/375 [==============================] - 0s 996us/step - loss: 8.2034e-04 - accuracy: 0.9997 - val_loss: 0.2227 - val_accuracy: 0.9763\n",
      "Epoch 43/100\n",
      "375/375 [==============================] - 0s 987us/step - loss: 7.3047e-04 - accuracy: 0.9998 - val_loss: 0.2417 - val_accuracy: 0.9738\n",
      "Epoch 44/100\n",
      "375/375 [==============================] - 0s 1ms/step - loss: 0.0010 - accuracy: 0.9996 - val_loss: 0.2309 - val_accuracy: 0.9742\n",
      "Epoch 45/100\n",
      "375/375 [==============================] - 0s 992us/step - loss: 0.0011 - accuracy: 0.9996 - val_loss: 0.2361 - val_accuracy: 0.9752\n",
      "Epoch 46/100\n",
      "375/375 [==============================] - 0s 990us/step - loss: 8.9929e-04 - accuracy: 0.9997 - val_loss: 0.2336 - val_accuracy: 0.9771\n",
      "Epoch 47/100\n",
      "375/375 [==============================] - 0s 1ms/step - loss: 6.9537e-04 - accuracy: 0.9998 - val_loss: 0.2407 - val_accuracy: 0.9759\n",
      "Epoch 48/100\n",
      "375/375 [==============================] - 0s 1ms/step - loss: 0.0010 - accuracy: 0.9998 - val_loss: 0.2368 - val_accuracy: 0.9772\n",
      "Epoch 49/100\n",
      "375/375 [==============================] - 0s 1ms/step - loss: 0.0012 - accuracy: 0.9996 - val_loss: 0.2312 - val_accuracy: 0.9782\n",
      "Epoch 50/100\n",
      "375/375 [==============================] - 0s 1ms/step - loss: 7.6706e-04 - accuracy: 0.9998 - val_loss: 0.2499 - val_accuracy: 0.9764\n",
      "Epoch 51/100\n",
      "375/375 [==============================] - 0s 1ms/step - loss: 7.8384e-04 - accuracy: 0.9998 - val_loss: 0.2537 - val_accuracy: 0.9787\n",
      "Epoch 52/100\n",
      "375/375 [==============================] - 0s 997us/step - loss: 7.4743e-04 - accuracy: 0.9998 - val_loss: 0.2583 - val_accuracy: 0.9761\n",
      "Epoch 53/100\n",
      "375/375 [==============================] - 0s 997us/step - loss: 0.0010 - accuracy: 0.9997 - val_loss: 0.2581 - val_accuracy: 0.9764\n",
      "Epoch 54/100\n",
      "375/375 [==============================] - 0s 987us/step - loss: 5.0497e-04 - accuracy: 0.9999 - val_loss: 0.2614 - val_accuracy: 0.9758\n",
      "Epoch 55/100\n",
      "375/375 [==============================] - 0s 976us/step - loss: 0.0012 - accuracy: 0.9996 - val_loss: 0.2608 - val_accuracy: 0.9762\n",
      "Epoch 56/100\n",
      "375/375 [==============================] - 0s 995us/step - loss: 4.1270e-04 - accuracy: 0.9999 - val_loss: 0.2691 - val_accuracy: 0.9764\n",
      "Epoch 57/100\n"
     ]
    },
    {
     "name": "stdout",
     "output_type": "stream",
     "text": [
      "375/375 [==============================] - 0s 1ms/step - loss: 5.2935e-04 - accuracy: 0.9998 - val_loss: 0.2808 - val_accuracy: 0.9769\n",
      "Epoch 58/100\n",
      "375/375 [==============================] - 0s 995us/step - loss: 6.0221e-04 - accuracy: 0.9998 - val_loss: 0.2803 - val_accuracy: 0.9765\n",
      "Epoch 59/100\n",
      "375/375 [==============================] - 0s 1ms/step - loss: 7.5510e-04 - accuracy: 0.9998 - val_loss: 0.2735 - val_accuracy: 0.9758\n",
      "Epoch 60/100\n",
      "375/375 [==============================] - 0s 992us/step - loss: 7.6393e-04 - accuracy: 0.9998 - val_loss: 0.3008 - val_accuracy: 0.9745\n",
      "Epoch 61/100\n",
      "375/375 [==============================] - 0s 976us/step - loss: 3.7830e-04 - accuracy: 0.9999 - val_loss: 0.2820 - val_accuracy: 0.9768\n",
      "Epoch 62/100\n",
      "375/375 [==============================] - 0s 1ms/step - loss: 9.8848e-04 - accuracy: 0.9996 - val_loss: 0.2890 - val_accuracy: 0.9770\n",
      "Epoch 63/100\n",
      "375/375 [==============================] - 0s 997us/step - loss: 9.8239e-04 - accuracy: 0.9997 - val_loss: 0.2832 - val_accuracy: 0.9768\n",
      "Epoch 64/100\n",
      "375/375 [==============================] - 0s 977us/step - loss: 6.7446e-04 - accuracy: 0.9997 - val_loss: 0.2797 - val_accuracy: 0.9777\n",
      "Epoch 65/100\n",
      "375/375 [==============================] - 0s 989us/step - loss: 3.1828e-04 - accuracy: 0.9999 - val_loss: 0.2897 - val_accuracy: 0.9769\n",
      "Epoch 66/100\n",
      "375/375 [==============================] - 0s 991us/step - loss: 5.1479e-04 - accuracy: 0.9999 - val_loss: 0.3021 - val_accuracy: 0.9758\n",
      "Epoch 67/100\n",
      "375/375 [==============================] - 0s 995us/step - loss: 5.7430e-04 - accuracy: 0.9999 - val_loss: 0.2839 - val_accuracy: 0.9768\n",
      "Epoch 68/100\n",
      "375/375 [==============================] - 0s 981us/step - loss: 7.0322e-04 - accuracy: 0.9998 - val_loss: 0.3063 - val_accuracy: 0.9760\n",
      "Epoch 69/100\n",
      "375/375 [==============================] - 0s 989us/step - loss: 9.0122e-04 - accuracy: 0.9998 - val_loss: 0.3097 - val_accuracy: 0.9759\n",
      "Epoch 70/100\n",
      "375/375 [==============================] - 0s 997us/step - loss: 5.4793e-04 - accuracy: 0.9999 - val_loss: 0.3071 - val_accuracy: 0.9754\n",
      "Epoch 71/100\n",
      "375/375 [==============================] - 0s 968us/step - loss: 4.7239e-04 - accuracy: 0.9998 - val_loss: 0.3131 - val_accuracy: 0.9764\n",
      "Epoch 72/100\n",
      "375/375 [==============================] - 0s 995us/step - loss: 9.5319e-04 - accuracy: 0.9999 - val_loss: 0.2826 - val_accuracy: 0.9782\n",
      "Epoch 73/100\n",
      "375/375 [==============================] - 0s 1ms/step - loss: 5.3785e-04 - accuracy: 0.9998 - val_loss: 0.3049 - val_accuracy: 0.9769\n",
      "Epoch 74/100\n",
      "375/375 [==============================] - 0s 983us/step - loss: 8.9663e-04 - accuracy: 0.9998 - val_loss: 0.2947 - val_accuracy: 0.9773\n",
      "Epoch 75/100\n",
      "375/375 [==============================] - 0s 1ms/step - loss: 4.4193e-04 - accuracy: 0.9999 - val_loss: 0.3014 - val_accuracy: 0.9772\n",
      "Epoch 76/100\n",
      "375/375 [==============================] - 0s 1ms/step - loss: 8.2539e-04 - accuracy: 0.9998 - val_loss: 0.3206 - val_accuracy: 0.9758\n",
      "Epoch 77/100\n",
      "375/375 [==============================] - 0s 987us/step - loss: 1.7183e-04 - accuracy: 1.0000 - val_loss: 0.3297 - val_accuracy: 0.9754\n",
      "Epoch 78/100\n",
      "375/375 [==============================] - 0s 993us/step - loss: 4.7693e-04 - accuracy: 0.9999 - val_loss: 0.3256 - val_accuracy: 0.9772\n",
      "Epoch 79/100\n",
      "375/375 [==============================] - 0s 999us/step - loss: 3.5973e-04 - accuracy: 0.9999 - val_loss: 0.3112 - val_accuracy: 0.9776\n",
      "Epoch 80/100\n",
      "375/375 [==============================] - 0s 992us/step - loss: 4.8745e-04 - accuracy: 0.9999 - val_loss: 0.3134 - val_accuracy: 0.9776\n",
      "Epoch 81/100\n",
      "375/375 [==============================] - 0s 997us/step - loss: 6.8080e-04 - accuracy: 0.9998 - val_loss: 0.3176 - val_accuracy: 0.9767\n",
      "Epoch 82/100\n",
      "375/375 [==============================] - 0s 996us/step - loss: 1.6936e-04 - accuracy: 0.9999 - val_loss: 0.3336 - val_accuracy: 0.9756\n",
      "Epoch 83/100\n",
      "375/375 [==============================] - 0s 999us/step - loss: 2.1715e-04 - accuracy: 1.0000 - val_loss: 0.3342 - val_accuracy: 0.9761\n",
      "Epoch 84/100\n",
      "375/375 [==============================] - 0s 980us/step - loss: 5.7704e-05 - accuracy: 1.0000 - val_loss: 0.3452 - val_accuracy: 0.9743\n",
      "Epoch 85/100\n",
      "375/375 [==============================] - 0s 998us/step - loss: 4.4739e-04 - accuracy: 0.9999 - val_loss: 0.3245 - val_accuracy: 0.9770\n",
      "Epoch 86/100\n",
      "375/375 [==============================] - 0s 1ms/step - loss: 2.4810e-04 - accuracy: 0.9999 - val_loss: 0.3411 - val_accuracy: 0.9773\n",
      "Epoch 87/100\n",
      "375/375 [==============================] - 0s 973us/step - loss: 3.1198e-04 - accuracy: 0.9999 - val_loss: 0.3427 - val_accuracy: 0.9771\n",
      "Epoch 88/100\n",
      "375/375 [==============================] - 0s 996us/step - loss: 2.1626e-04 - accuracy: 0.9999 - val_loss: 0.3614 - val_accuracy: 0.9760\n",
      "Epoch 89/100\n",
      "375/375 [==============================] - 0s 1ms/step - loss: 5.2152e-04 - accuracy: 0.9999 - val_loss: 0.3705 - val_accuracy: 0.9766\n",
      "Epoch 90/100\n",
      "375/375 [==============================] - 0s 1ms/step - loss: 1.7620e-04 - accuracy: 1.0000 - val_loss: 0.3435 - val_accuracy: 0.9779\n",
      "Epoch 91/100\n",
      "375/375 [==============================] - 0s 1ms/step - loss: 2.7849e-04 - accuracy: 1.0000 - val_loss: 0.3565 - val_accuracy: 0.9758\n",
      "Epoch 92/100\n",
      "375/375 [==============================] - 0s 1ms/step - loss: 1.1494e-04 - accuracy: 1.0000 - val_loss: 0.3671 - val_accuracy: 0.9771\n",
      "Epoch 93/100\n",
      "375/375 [==============================] - 0s 1ms/step - loss: 3.8531e-04 - accuracy: 0.9999 - val_loss: 0.3881 - val_accuracy: 0.9753\n",
      "Epoch 94/100\n",
      "375/375 [==============================] - 0s 1ms/step - loss: 1.4902e-04 - accuracy: 1.0000 - val_loss: 0.3668 - val_accuracy: 0.9773\n",
      "Epoch 95/100\n",
      "375/375 [==============================] - 0s 981us/step - loss: 6.7635e-04 - accuracy: 0.9998 - val_loss: 0.3727 - val_accuracy: 0.9770\n",
      "Epoch 96/100\n",
      "375/375 [==============================] - 0s 1ms/step - loss: 2.9617e-04 - accuracy: 0.9999 - val_loss: 0.3754 - val_accuracy: 0.9760\n",
      "Epoch 97/100\n",
      "375/375 [==============================] - 0s 997us/step - loss: 1.3438e-04 - accuracy: 0.9999 - val_loss: 0.4006 - val_accuracy: 0.9744\n",
      "Epoch 98/100\n",
      "375/375 [==============================] - 0s 979us/step - loss: 2.9581e-04 - accuracy: 0.9999 - val_loss: 0.3797 - val_accuracy: 0.9746\n",
      "Epoch 99/100\n",
      "375/375 [==============================] - 0s 999us/step - loss: 7.9464e-04 - accuracy: 0.9998 - val_loss: 0.3773 - val_accuracy: 0.9762\n",
      "Epoch 100/100\n",
      "375/375 [==============================] - 0s 1000us/step - loss: 3.6623e-04 - accuracy: 0.9999 - val_loss: 0.3823 - val_accuracy: 0.9771\n"
     ]
    }
   ],
   "source": [
    "model = keras.Sequential([\n",
    "    layers.Dense(96, activation=\"relu\"),\n",
    "    layers.Dense(96, activation=\"relu\"),\n",
    "    layers.Dense(10, activation=\"softmax\"),\n",
    "])\n",
    "model.compile(optimizer=\"rmsprop\",\n",
    "              loss=\"sparse_categorical_crossentropy\",\n",
    "              metrics=[\"accuracy\"])\n",
    "history_large_model = model.fit(\n",
    "    train_images, train_labels,\n",
    "    epochs=100,\n",
    "    batch_size=128,\n",
    "    validation_split=0.2)"
   ]
  },
  {
   "cell_type": "markdown",
   "metadata": {
    "colab_type": "text"
   },
   "source": [
    "## Improving generalization"
   ]
  },
  {
   "cell_type": "markdown",
   "metadata": {
    "colab_type": "text"
   },
   "source": [
    "### Dataset curation"
   ]
  },
  {
   "cell_type": "markdown",
   "metadata": {
    "colab_type": "text"
   },
   "source": [
    "### Feature engineering"
   ]
  },
  {
   "cell_type": "markdown",
   "metadata": {
    "colab_type": "text"
   },
   "source": [
    "### Using early stopping"
   ]
  },
  {
   "cell_type": "markdown",
   "metadata": {
    "colab_type": "text"
   },
   "source": [
    "### Regularizing your model"
   ]
  },
  {
   "cell_type": "markdown",
   "metadata": {
    "colab_type": "text"
   },
   "source": [
    "#### Reducing the network's size"
   ]
  },
  {
   "cell_type": "markdown",
   "metadata": {
    "colab_type": "text"
   },
   "source": [
    "**Original model**"
   ]
  },
  {
   "cell_type": "code",
   "execution_count": 10,
   "metadata": {
    "colab_type": "code"
   },
   "outputs": [
    {
     "name": "stderr",
     "output_type": "stream",
     "text": [
      "<__array_function__ internals>:5: VisibleDeprecationWarning: Creating an ndarray from ragged nested sequences (which is a list-or-tuple of lists-or-tuples-or ndarrays with different lengths or shapes) is deprecated. If you meant to do this, you must specify 'dtype=object' when creating the ndarray\n",
      "C:\\Users\\user\\anaconda3\\lib\\site-packages\\tensorflow\\python\\keras\\datasets\\imdb.py:155: VisibleDeprecationWarning: Creating an ndarray from ragged nested sequences (which is a list-or-tuple of lists-or-tuples-or ndarrays with different lengths or shapes) is deprecated. If you meant to do this, you must specify 'dtype=object' when creating the ndarray\n",
      "  x_train, y_train = np.array(xs[:idx]), np.array(labels[:idx])\n",
      "C:\\Users\\user\\anaconda3\\lib\\site-packages\\tensorflow\\python\\keras\\datasets\\imdb.py:156: VisibleDeprecationWarning: Creating an ndarray from ragged nested sequences (which is a list-or-tuple of lists-or-tuples-or ndarrays with different lengths or shapes) is deprecated. If you meant to do this, you must specify 'dtype=object' when creating the ndarray\n",
      "  x_test, y_test = np.array(xs[idx:]), np.array(labels[idx:])\n"
     ]
    },
    {
     "name": "stdout",
     "output_type": "stream",
     "text": [
      "Epoch 1/20\n",
      "30/30 [==============================] - 1s 18ms/step - loss: 0.5097 - accuracy: 0.7905 - val_loss: 0.3965 - val_accuracy: 0.8536\n",
      "Epoch 2/20\n",
      "30/30 [==============================] - 0s 12ms/step - loss: 0.3046 - accuracy: 0.8998 - val_loss: 0.3065 - val_accuracy: 0.8834\n",
      "Epoch 3/20\n",
      "30/30 [==============================] - 0s 12ms/step - loss: 0.2204 - accuracy: 0.9277 - val_loss: 0.2942 - val_accuracy: 0.8831\n",
      "Epoch 4/20\n",
      "30/30 [==============================] - 0s 12ms/step - loss: 0.1758 - accuracy: 0.9430 - val_loss: 0.2731 - val_accuracy: 0.8910\n",
      "Epoch 5/20\n",
      "30/30 [==============================] - 0s 12ms/step - loss: 0.1388 - accuracy: 0.9560 - val_loss: 0.2810 - val_accuracy: 0.8894\n",
      "Epoch 6/20\n",
      "30/30 [==============================] - 0s 11ms/step - loss: 0.1153 - accuracy: 0.9653 - val_loss: 0.3032 - val_accuracy: 0.8847\n",
      "Epoch 7/20\n",
      "30/30 [==============================] - 0s 12ms/step - loss: 0.0962 - accuracy: 0.9709 - val_loss: 0.3122 - val_accuracy: 0.8848\n",
      "Epoch 8/20\n",
      "30/30 [==============================] - 0s 12ms/step - loss: 0.0788 - accuracy: 0.9779 - val_loss: 0.3429 - val_accuracy: 0.8802\n",
      "Epoch 9/20\n",
      "30/30 [==============================] - 0s 11ms/step - loss: 0.0641 - accuracy: 0.9827 - val_loss: 0.3589 - val_accuracy: 0.8783\n",
      "Epoch 10/20\n",
      "30/30 [==============================] - 0s 11ms/step - loss: 0.0540 - accuracy: 0.9850 - val_loss: 0.4189 - val_accuracy: 0.8717\n",
      "Epoch 11/20\n",
      "30/30 [==============================] - 0s 11ms/step - loss: 0.0453 - accuracy: 0.9888 - val_loss: 0.4186 - val_accuracy: 0.8774\n",
      "Epoch 12/20\n",
      "30/30 [==============================] - 0s 11ms/step - loss: 0.0375 - accuracy: 0.9911 - val_loss: 0.4417 - val_accuracy: 0.8739\n",
      "Epoch 13/20\n",
      "30/30 [==============================] - 0s 11ms/step - loss: 0.0283 - accuracy: 0.9943 - val_loss: 0.4777 - val_accuracy: 0.8709\n",
      "Epoch 14/20\n",
      "30/30 [==============================] - 0s 11ms/step - loss: 0.0238 - accuracy: 0.9951 - val_loss: 0.5039 - val_accuracy: 0.8739\n",
      "Epoch 15/20\n",
      "30/30 [==============================] - 0s 11ms/step - loss: 0.0163 - accuracy: 0.9981 - val_loss: 0.5531 - val_accuracy: 0.8683\n",
      "Epoch 16/20\n",
      "30/30 [==============================] - 0s 11ms/step - loss: 0.0179 - accuracy: 0.9965 - val_loss: 0.5734 - val_accuracy: 0.8694\n",
      "Epoch 17/20\n",
      "30/30 [==============================] - 0s 11ms/step - loss: 0.0092 - accuracy: 0.9990 - val_loss: 0.6734 - val_accuracy: 0.8608\n",
      "Epoch 18/20\n",
      "30/30 [==============================] - 0s 11ms/step - loss: 0.0129 - accuracy: 0.9975 - val_loss: 0.6412 - val_accuracy: 0.8673\n",
      "Epoch 19/20\n",
      "30/30 [==============================] - 0s 11ms/step - loss: 0.0053 - accuracy: 0.9997 - val_loss: 0.6722 - val_accuracy: 0.8643\n",
      "Epoch 20/20\n",
      "30/30 [==============================] - 0s 10ms/step - loss: 0.0075 - accuracy: 0.9989 - val_loss: 0.7106 - val_accuracy: 0.8651\n"
     ]
    }
   ],
   "source": [
    "from tensorflow.keras.datasets import imdb\n",
    "(train_data, train_labels), _ = imdb.load_data(num_words=10000)\n",
    "\n",
    "def vectorize_sequences(sequences, dimension=10000):\n",
    "    results = np.zeros((len(sequences), dimension))\n",
    "    for i, sequence in enumerate(sequences):\n",
    "        results[i, sequence] = 1.\n",
    "    return results\n",
    "train_data = vectorize_sequences(train_data)\n",
    "\n",
    "model = keras.Sequential([\n",
    "    layers.Dense(16, activation=\"relu\"),\n",
    "    layers.Dense(16, activation=\"relu\"),\n",
    "    layers.Dense(1, activation=\"sigmoid\")\n",
    "])\n",
    "model.compile(optimizer=\"rmsprop\",\n",
    "              loss=\"binary_crossentropy\",\n",
    "              metrics=[\"accuracy\"])\n",
    "history_original = model.fit(train_data, train_labels,\n",
    "                             epochs=20, batch_size=512, validation_split=0.4)"
   ]
  },
  {
   "cell_type": "markdown",
   "metadata": {
    "colab_type": "text"
   },
   "source": [
    "**Version of the model with lower capacity**"
   ]
  },
  {
   "cell_type": "code",
   "execution_count": 11,
   "metadata": {
    "colab_type": "code"
   },
   "outputs": [
    {
     "name": "stdout",
     "output_type": "stream",
     "text": [
      "Epoch 1/20\n",
      "30/30 [==============================] - 1s 18ms/step - loss: 0.5625 - accuracy: 0.7587 - val_loss: 0.4545 - val_accuracy: 0.8591\n",
      "Epoch 2/20\n",
      "30/30 [==============================] - 0s 11ms/step - loss: 0.3776 - accuracy: 0.8894 - val_loss: 0.3627 - val_accuracy: 0.8807\n",
      "Epoch 3/20\n",
      "30/30 [==============================] - 0s 11ms/step - loss: 0.2883 - accuracy: 0.9160 - val_loss: 0.3135 - val_accuracy: 0.8880\n",
      "Epoch 4/20\n",
      "30/30 [==============================] - 0s 11ms/step - loss: 0.2354 - accuracy: 0.9310 - val_loss: 0.2909 - val_accuracy: 0.8903\n",
      "Epoch 5/20\n",
      "30/30 [==============================] - 0s 11ms/step - loss: 0.1977 - accuracy: 0.9431 - val_loss: 0.2832 - val_accuracy: 0.8896\n",
      "Epoch 6/20\n",
      "30/30 [==============================] - 0s 12ms/step - loss: 0.1696 - accuracy: 0.9521 - val_loss: 0.2860 - val_accuracy: 0.8838\n",
      "Epoch 7/20\n",
      "30/30 [==============================] - 0s 11ms/step - loss: 0.1490 - accuracy: 0.9575 - val_loss: 0.2808 - val_accuracy: 0.8880\n",
      "Epoch 8/20\n",
      "30/30 [==============================] - 0s 11ms/step - loss: 0.1305 - accuracy: 0.9650 - val_loss: 0.2819 - val_accuracy: 0.8885\n",
      "Epoch 9/20\n",
      "30/30 [==============================] - 0s 11ms/step - loss: 0.1159 - accuracy: 0.9687 - val_loss: 0.3000 - val_accuracy: 0.8821\n",
      "Epoch 10/20\n",
      "30/30 [==============================] - 0s 11ms/step - loss: 0.1039 - accuracy: 0.9735 - val_loss: 0.2969 - val_accuracy: 0.8847\n",
      "Epoch 11/20\n",
      "30/30 [==============================] - 0s 10ms/step - loss: 0.0929 - accuracy: 0.9765 - val_loss: 0.3089 - val_accuracy: 0.8836\n",
      "Epoch 12/20\n",
      "30/30 [==============================] - 0s 11ms/step - loss: 0.0821 - accuracy: 0.9803 - val_loss: 0.3213 - val_accuracy: 0.8831\n",
      "Epoch 13/20\n",
      "30/30 [==============================] - 0s 11ms/step - loss: 0.0737 - accuracy: 0.9829 - val_loss: 0.3332 - val_accuracy: 0.8805\n",
      "Epoch 14/20\n",
      "30/30 [==============================] - 0s 10ms/step - loss: 0.0664 - accuracy: 0.9854 - val_loss: 0.3543 - val_accuracy: 0.8781\n",
      "Epoch 15/20\n",
      "30/30 [==============================] - 0s 10ms/step - loss: 0.0590 - accuracy: 0.9863 - val_loss: 0.3613 - val_accuracy: 0.8792\n",
      "Epoch 16/20\n",
      "30/30 [==============================] - 0s 10ms/step - loss: 0.0523 - accuracy: 0.9881 - val_loss: 0.3791 - val_accuracy: 0.8777\n",
      "Epoch 17/20\n",
      "30/30 [==============================] - 0s 10ms/step - loss: 0.0464 - accuracy: 0.9902 - val_loss: 0.3984 - val_accuracy: 0.8760\n",
      "Epoch 18/20\n",
      "30/30 [==============================] - 0s 10ms/step - loss: 0.0412 - accuracy: 0.9914 - val_loss: 0.4300 - val_accuracy: 0.8723\n",
      "Epoch 19/20\n",
      "30/30 [==============================] - 0s 10ms/step - loss: 0.0370 - accuracy: 0.9926 - val_loss: 0.4358 - val_accuracy: 0.8732\n",
      "Epoch 20/20\n",
      "30/30 [==============================] - 0s 9ms/step - loss: 0.0319 - accuracy: 0.9941 - val_loss: 0.4623 - val_accuracy: 0.8718\n"
     ]
    }
   ],
   "source": [
    "model = keras.Sequential([\n",
    "    layers.Dense(4, activation=\"relu\"),\n",
    "    layers.Dense(4, activation=\"relu\"),\n",
    "    layers.Dense(1, activation=\"sigmoid\")\n",
    "])\n",
    "model.compile(optimizer=\"rmsprop\",\n",
    "              loss=\"binary_crossentropy\",\n",
    "              metrics=[\"accuracy\"])\n",
    "history_smaller_model = model.fit(\n",
    "    train_data, train_labels,\n",
    "    epochs=20, batch_size=512, validation_split=0.4)"
   ]
  },
  {
   "cell_type": "markdown",
   "metadata": {
    "colab_type": "text"
   },
   "source": [
    "**Version of the model with higher capacity**"
   ]
  },
  {
   "cell_type": "code",
   "execution_count": 12,
   "metadata": {
    "colab_type": "code"
   },
   "outputs": [
    {
     "name": "stdout",
     "output_type": "stream",
     "text": [
      "Epoch 1/20\n",
      "30/30 [==============================] - 2s 72ms/step - loss: 0.5313 - accuracy: 0.7583 - val_loss: 0.4048 - val_accuracy: 0.8233\n",
      "Epoch 2/20\n",
      "30/30 [==============================] - 2s 67ms/step - loss: 0.2567 - accuracy: 0.9012 - val_loss: 0.3668 - val_accuracy: 0.8574\n",
      "Epoch 3/20\n",
      "30/30 [==============================] - 2s 65ms/step - loss: 0.1517 - accuracy: 0.9407 - val_loss: 0.3210 - val_accuracy: 0.8900\n",
      "Epoch 4/20\n",
      "30/30 [==============================] - 2s 65ms/step - loss: 0.1046 - accuracy: 0.9699 - val_loss: 0.3603 - val_accuracy: 0.8885\n",
      "Epoch 5/20\n",
      "30/30 [==============================] - 2s 67ms/step - loss: 0.0979 - accuracy: 0.9774 - val_loss: 0.3169 - val_accuracy: 0.8875\n",
      "Epoch 6/20\n",
      "30/30 [==============================] - 2s 67ms/step - loss: 0.0066 - accuracy: 0.9995 - val_loss: 0.5058 - val_accuracy: 0.8845\n",
      "Epoch 7/20\n",
      "30/30 [==============================] - 2s 67ms/step - loss: 9.8794e-04 - accuracy: 0.9998 - val_loss: 0.6487 - val_accuracy: 0.8820\n",
      "Epoch 8/20\n",
      "30/30 [==============================] - 2s 66ms/step - loss: 1.4373e-04 - accuracy: 1.0000 - val_loss: 0.7435 - val_accuracy: 0.8850\n",
      "Epoch 9/20\n",
      "30/30 [==============================] - 2s 66ms/step - loss: 2.2792e-05 - accuracy: 1.0000 - val_loss: 0.8691 - val_accuracy: 0.8846\n",
      "Epoch 10/20\n",
      "30/30 [==============================] - 2s 66ms/step - loss: 4.7295e-06 - accuracy: 1.0000 - val_loss: 0.9818 - val_accuracy: 0.8829\n",
      "Epoch 11/20\n",
      "30/30 [==============================] - 2s 67ms/step - loss: 1.2172e-06 - accuracy: 1.0000 - val_loss: 1.0452 - val_accuracy: 0.8868\n",
      "Epoch 12/20\n",
      "30/30 [==============================] - 2s 66ms/step - loss: 3.3897e-07 - accuracy: 1.0000 - val_loss: 1.1263 - val_accuracy: 0.8859\n",
      "Epoch 13/20\n",
      "30/30 [==============================] - 2s 67ms/step - loss: 1.2481e-07 - accuracy: 1.0000 - val_loss: 1.1937 - val_accuracy: 0.8865\n",
      "Epoch 14/20\n",
      "30/30 [==============================] - 2s 67ms/step - loss: 5.2858e-08 - accuracy: 1.0000 - val_loss: 1.2481 - val_accuracy: 0.8856\n",
      "Epoch 15/20\n",
      "30/30 [==============================] - 2s 67ms/step - loss: 2.9226e-08 - accuracy: 1.0000 - val_loss: 1.2808 - val_accuracy: 0.8866\n",
      "Epoch 16/20\n",
      "30/30 [==============================] - 2s 67ms/step - loss: 1.9479e-08 - accuracy: 1.0000 - val_loss: 1.3076 - val_accuracy: 0.8860\n",
      "Epoch 17/20\n",
      "30/30 [==============================] - 2s 67ms/step - loss: 1.4518e-08 - accuracy: 1.0000 - val_loss: 1.3243 - val_accuracy: 0.8867\n",
      "Epoch 18/20\n",
      "30/30 [==============================] - 2s 67ms/step - loss: 1.1518e-08 - accuracy: 1.0000 - val_loss: 1.3399 - val_accuracy: 0.8854\n",
      "Epoch 19/20\n",
      "30/30 [==============================] - 2s 67ms/step - loss: 9.6014e-09 - accuracy: 1.0000 - val_loss: 1.3510 - val_accuracy: 0.8861\n",
      "Epoch 20/20\n",
      "30/30 [==============================] - 2s 66ms/step - loss: 8.2477e-09 - accuracy: 1.0000 - val_loss: 1.3609 - val_accuracy: 0.8861\n"
     ]
    }
   ],
   "source": [
    "model = keras.Sequential([\n",
    "    layers.Dense(512, activation=\"relu\"),\n",
    "    layers.Dense(512, activation=\"relu\"),\n",
    "    layers.Dense(1, activation=\"sigmoid\")\n",
    "])\n",
    "model.compile(optimizer=\"rmsprop\",\n",
    "              loss=\"binary_crossentropy\",\n",
    "              metrics=[\"accuracy\"])\n",
    "history_larger_model = model.fit(\n",
    "    train_data, train_labels,\n",
    "    epochs=20, batch_size=512, validation_split=0.4)"
   ]
  },
  {
   "cell_type": "markdown",
   "metadata": {
    "colab_type": "text"
   },
   "source": [
    "#### Adding weight regularization"
   ]
  },
  {
   "cell_type": "markdown",
   "metadata": {
    "colab_type": "text"
   },
   "source": [
    "**Adding L2 weight regularization to the model**"
   ]
  },
  {
   "cell_type": "code",
   "execution_count": 13,
   "metadata": {
    "colab_type": "code"
   },
   "outputs": [
    {
     "name": "stdout",
     "output_type": "stream",
     "text": [
      "Epoch 1/20\n",
      "30/30 [==============================] - 1s 24ms/step - loss: 0.5832 - accuracy: 0.7707 - val_loss: 0.4444 - val_accuracy: 0.8744\n",
      "Epoch 2/20\n",
      "30/30 [==============================] - 0s 15ms/step - loss: 0.3790 - accuracy: 0.9007 - val_loss: 0.3745 - val_accuracy: 0.8894\n",
      "Epoch 3/20\n",
      "30/30 [==============================] - 0s 14ms/step - loss: 0.3170 - accuracy: 0.9178 - val_loss: 0.3650 - val_accuracy: 0.8853\n",
      "Epoch 4/20\n",
      "30/30 [==============================] - 0s 12ms/step - loss: 0.2851 - accuracy: 0.9298 - val_loss: 0.3855 - val_accuracy: 0.8746\n",
      "Epoch 5/20\n",
      "30/30 [==============================] - 0s 12ms/step - loss: 0.2700 - accuracy: 0.9327 - val_loss: 0.4205 - val_accuracy: 0.8617\n",
      "Epoch 6/20\n",
      "30/30 [==============================] - 0s 13ms/step - loss: 0.2569 - accuracy: 0.9395 - val_loss: 0.3619 - val_accuracy: 0.8880\n",
      "Epoch 7/20\n",
      "30/30 [==============================] - 0s 12ms/step - loss: 0.2487 - accuracy: 0.9433 - val_loss: 0.4070 - val_accuracy: 0.8701\n",
      "Epoch 8/20\n",
      "30/30 [==============================] - 0s 12ms/step - loss: 0.2413 - accuracy: 0.9448 - val_loss: 0.3719 - val_accuracy: 0.8825\n",
      "Epoch 9/20\n",
      "30/30 [==============================] - 0s 12ms/step - loss: 0.2404 - accuracy: 0.9436 - val_loss: 0.3968 - val_accuracy: 0.8766\n",
      "Epoch 10/20\n",
      "30/30 [==============================] - 0s 12ms/step - loss: 0.2286 - accuracy: 0.9497 - val_loss: 0.3896 - val_accuracy: 0.8784\n",
      "Epoch 11/20\n",
      "30/30 [==============================] - 0s 12ms/step - loss: 0.2221 - accuracy: 0.9515 - val_loss: 0.4246 - val_accuracy: 0.8685\n",
      "Epoch 12/20\n",
      "30/30 [==============================] - 0s 12ms/step - loss: 0.2264 - accuracy: 0.9503 - val_loss: 0.3926 - val_accuracy: 0.8795\n",
      "Epoch 13/20\n",
      "30/30 [==============================] - 0s 12ms/step - loss: 0.2159 - accuracy: 0.9545 - val_loss: 0.4053 - val_accuracy: 0.8761\n",
      "Epoch 14/20\n",
      "30/30 [==============================] - 0s 11ms/step - loss: 0.2191 - accuracy: 0.9525 - val_loss: 0.4023 - val_accuracy: 0.8780\n",
      "Epoch 15/20\n",
      "30/30 [==============================] - 0s 11ms/step - loss: 0.2184 - accuracy: 0.9507 - val_loss: 0.4262 - val_accuracy: 0.8733\n",
      "Epoch 16/20\n",
      "30/30 [==============================] - 0s 11ms/step - loss: 0.2159 - accuracy: 0.9524 - val_loss: 0.4096 - val_accuracy: 0.8778\n",
      "Epoch 17/20\n",
      "30/30 [==============================] - 0s 12ms/step - loss: 0.2047 - accuracy: 0.9597 - val_loss: 0.4153 - val_accuracy: 0.8758\n",
      "Epoch 18/20\n",
      "30/30 [==============================] - 0s 11ms/step - loss: 0.2023 - accuracy: 0.9621 - val_loss: 0.5614 - val_accuracy: 0.8335\n",
      "Epoch 19/20\n",
      "30/30 [==============================] - 0s 11ms/step - loss: 0.2071 - accuracy: 0.9567 - val_loss: 0.4241 - val_accuracy: 0.8736\n",
      "Epoch 20/20\n",
      "30/30 [==============================] - 0s 10ms/step - loss: 0.2015 - accuracy: 0.9583 - val_loss: 0.4466 - val_accuracy: 0.8688\n"
     ]
    }
   ],
   "source": [
    "from tensorflow.keras import regularizers\n",
    "model = keras.Sequential([\n",
    "    layers.Dense(16,\n",
    "                 kernel_regularizer=regularizers.l2(0.002),\n",
    "                 activation=\"relu\"),\n",
    "    layers.Dense(16,\n",
    "                 kernel_regularizer=regularizers.l2(0.002),\n",
    "                 activation=\"relu\"),\n",
    "    layers.Dense(1, activation=\"sigmoid\")\n",
    "])\n",
    "model.compile(optimizer=\"rmsprop\",\n",
    "              loss=\"binary_crossentropy\",\n",
    "              metrics=[\"accuracy\"])\n",
    "history_l2_reg = model.fit(\n",
    "    train_data, train_labels,\n",
    "    epochs=20, batch_size=512, validation_split=0.4)"
   ]
  },
  {
   "cell_type": "markdown",
   "metadata": {
    "colab_type": "text"
   },
   "source": [
    "**Different weight regularizers available in Keras**"
   ]
  },
  {
   "cell_type": "code",
   "execution_count": 14,
   "metadata": {
    "colab_type": "code"
   },
   "outputs": [
    {
     "data": {
      "text/plain": [
       "<tensorflow.python.keras.regularizers.L1L2 at 0x1f1287bd7c0>"
      ]
     },
     "execution_count": 14,
     "metadata": {},
     "output_type": "execute_result"
    }
   ],
   "source": [
    "from tensorflow.keras import regularizers\n",
    "regularizers.l1(0.001)\n",
    "regularizers.l1_l2(l1=0.001, l2=0.001)"
   ]
  },
  {
   "cell_type": "markdown",
   "metadata": {
    "colab_type": "text"
   },
   "source": [
    "#### Adding dropout"
   ]
  },
  {
   "cell_type": "markdown",
   "metadata": {
    "colab_type": "text"
   },
   "source": [
    "**Adding dropout to the IMDB model**"
   ]
  },
  {
   "cell_type": "code",
   "execution_count": 15,
   "metadata": {
    "colab_type": "code"
   },
   "outputs": [
    {
     "name": "stdout",
     "output_type": "stream",
     "text": [
      "Epoch 1/20\n",
      "30/30 [==============================] - 1s 17ms/step - loss: 0.6413 - accuracy: 0.6213 - val_loss: 0.5363 - val_accuracy: 0.8391\n",
      "Epoch 2/20\n",
      "30/30 [==============================] - 0s 12ms/step - loss: 0.5250 - accuracy: 0.7581 - val_loss: 0.4131 - val_accuracy: 0.8717\n",
      "Epoch 3/20\n",
      "30/30 [==============================] - 0s 12ms/step - loss: 0.4374 - accuracy: 0.8203 - val_loss: 0.3367 - val_accuracy: 0.8842\n",
      "Epoch 4/20\n",
      "30/30 [==============================] - 0s 12ms/step - loss: 0.3653 - accuracy: 0.8577 - val_loss: 0.3290 - val_accuracy: 0.8647\n",
      "Epoch 5/20\n",
      "30/30 [==============================] - 0s 12ms/step - loss: 0.3132 - accuracy: 0.8835 - val_loss: 0.2877 - val_accuracy: 0.8874\n",
      "Epoch 6/20\n",
      "30/30 [==============================] - 0s 12ms/step - loss: 0.2776 - accuracy: 0.8971 - val_loss: 0.2999 - val_accuracy: 0.8765\n",
      "Epoch 7/20\n",
      "30/30 [==============================] - 0s 12ms/step - loss: 0.2439 - accuracy: 0.9117 - val_loss: 0.2739 - val_accuracy: 0.8939\n",
      "Epoch 8/20\n",
      "30/30 [==============================] - 0s 12ms/step - loss: 0.2104 - accuracy: 0.9280 - val_loss: 0.2840 - val_accuracy: 0.8937\n",
      "Epoch 9/20\n",
      "30/30 [==============================] - 0s 12ms/step - loss: 0.1906 - accuracy: 0.9343 - val_loss: 0.3023 - val_accuracy: 0.8880\n",
      "Epoch 10/20\n",
      "30/30 [==============================] - 0s 12ms/step - loss: 0.1658 - accuracy: 0.9425 - val_loss: 0.3112 - val_accuracy: 0.8920\n",
      "Epoch 11/20\n",
      "30/30 [==============================] - 0s 12ms/step - loss: 0.1503 - accuracy: 0.9494 - val_loss: 0.3553 - val_accuracy: 0.8838\n",
      "Epoch 12/20\n",
      "30/30 [==============================] - 0s 12ms/step - loss: 0.1367 - accuracy: 0.9533 - val_loss: 0.3492 - val_accuracy: 0.8892\n",
      "Epoch 13/20\n",
      "30/30 [==============================] - 0s 12ms/step - loss: 0.1244 - accuracy: 0.9597 - val_loss: 0.3909 - val_accuracy: 0.8904\n",
      "Epoch 14/20\n",
      "30/30 [==============================] - 0s 12ms/step - loss: 0.1143 - accuracy: 0.9602 - val_loss: 0.4010 - val_accuracy: 0.8882\n",
      "Epoch 15/20\n",
      "30/30 [==============================] - 0s 12ms/step - loss: 0.1074 - accuracy: 0.9613 - val_loss: 0.4174 - val_accuracy: 0.8879\n",
      "Epoch 16/20\n",
      "30/30 [==============================] - 0s 12ms/step - loss: 0.0961 - accuracy: 0.9667 - val_loss: 0.4535 - val_accuracy: 0.8870\n",
      "Epoch 17/20\n",
      "30/30 [==============================] - 0s 12ms/step - loss: 0.0904 - accuracy: 0.9684 - val_loss: 0.4887 - val_accuracy: 0.8846\n",
      "Epoch 18/20\n",
      "30/30 [==============================] - 0s 12ms/step - loss: 0.0849 - accuracy: 0.9699 - val_loss: 0.5280 - val_accuracy: 0.8855\n",
      "Epoch 19/20\n",
      "30/30 [==============================] - 0s 12ms/step - loss: 0.0834 - accuracy: 0.9711 - val_loss: 0.5459 - val_accuracy: 0.8853\n",
      "Epoch 20/20\n",
      "30/30 [==============================] - 0s 10ms/step - loss: 0.0797 - accuracy: 0.9707 - val_loss: 0.5778 - val_accuracy: 0.8837\n"
     ]
    }
   ],
   "source": [
    "model = keras.Sequential([\n",
    "    layers.Dense(16, activation=\"relu\"),\n",
    "    layers.Dropout(0.5),\n",
    "    layers.Dense(16, activation=\"relu\"),\n",
    "    layers.Dropout(0.5),\n",
    "    layers.Dense(1, activation=\"sigmoid\")\n",
    "])\n",
    "model.compile(optimizer=\"rmsprop\",\n",
    "              loss=\"binary_crossentropy\",\n",
    "              metrics=[\"accuracy\"])\n",
    "history_dropout = model.fit(\n",
    "    train_data, train_labels,\n",
    "    epochs=20, batch_size=512, validation_split=0.4)"
   ]
  },
  {
   "cell_type": "markdown",
   "metadata": {
    "colab_type": "text"
   },
   "source": [
    "## Summary"
   ]
  }
 ],
 "metadata": {
  "colab": {
   "collapsed_sections": [],
   "name": "chapter05_fundamentals-of-ml.i",
   "private_outputs": false,
   "provenance": [],
   "toc_visible": true
  },
  "kernelspec": {
   "display_name": "Python 3 (ipykernel)",
   "language": "python",
   "name": "python3"
  },
  "language_info": {
   "codemirror_mode": {
    "name": "ipython",
    "version": 3
   },
   "file_extension": ".py",
   "mimetype": "text/x-python",
   "name": "python",
   "nbconvert_exporter": "python",
   "pygments_lexer": "ipython3",
   "version": "3.9.13"
  }
 },
 "nbformat": 4,
 "nbformat_minor": 1
}
